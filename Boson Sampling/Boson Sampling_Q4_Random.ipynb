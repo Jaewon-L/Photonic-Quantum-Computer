{
 "cells": [
  {
   "cell_type": "code",
   "execution_count": 5,
   "id": "ccf07911-a27c-432d-b667-7c0a2635c61d",
   "metadata": {},
   "outputs": [],
   "source": [
    "#necessary package import\n",
    "#Numpy\n",
    "import numpy as np\n",
    "from numpy.linalg import multi_dot\n",
    "#Matplotlib\n",
    "import matplotlib.pyplot as plt\n",
    "#Scipy\n",
    "from scipy.linalg import block_diag\n",
    "#Thewalrus\n",
    "from thewalrus import perm\n",
    "#Strawberryfields\n",
    "import strawberryfields as sf\n",
    "from strawberryfields.ops import *"
   ]
  },
  {
   "cell_type": "code",
   "execution_count": 7,
   "id": "cdd66e74-ced0-469d-beae-4b8b3a201704",
   "metadata": {},
   "outputs": [
    {
     "ename": "NameError",
     "evalue": "name 'r1' is not defined",
     "output_type": "error",
     "traceback": [
      "\u001b[0;31m---------------------------------------------------------------------------\u001b[0m",
      "\u001b[0;31mNameError\u001b[0m                                 Traceback (most recent call last)",
      "Cell \u001b[0;32mIn[7], line 27\u001b[0m\n\u001b[1;32m     24\u001b[0m Fock(\u001b[38;5;241m1\u001b[39m)  \u001b[38;5;241m|\u001b[39m  q[\u001b[38;5;241m3\u001b[39m] \n\u001b[1;32m     26\u001b[0m \u001b[38;5;66;03m#rotation gates\u001b[39;00m\n\u001b[0;32m---> 27\u001b[0m Rgate(\u001b[43mr1\u001b[49m)  \u001b[38;5;241m|\u001b[39m q[\u001b[38;5;241m0\u001b[39m]\n\u001b[1;32m     28\u001b[0m Rgate(r2)  \u001b[38;5;241m|\u001b[39m q[\u001b[38;5;241m1\u001b[39m]\n\u001b[1;32m     29\u001b[0m Rgate(r3)  \u001b[38;5;241m|\u001b[39m q[\u001b[38;5;241m2\u001b[39m]\n",
      "\u001b[0;31mNameError\u001b[0m: name 'r1' is not defined"
     ]
    }
   ],
   "source": [
    "#set the random seed\n",
    "np.random.seed(42)\n",
    "\n",
    "# Define keys for r and bs variables\n",
    "r_keys = ['r1', 'r2', 'r3', 'r4']\n",
    "bs_keys = ['bs' + str(i) + str(j) for i in range(1, 9) for j in range(1, 3)]\n",
    "\n",
    "# Initialize the dictionaries with random values\n",
    "r_vars = {key: np.random.rand() for key in r_keys}\n",
    "bs_vars = {key: np.random.rand() for key in bs_keys}\n",
    "\n",
    "# Substitute with new random values\n",
    "r_vars = {key: np.random.rand() for key in r_keys}\n",
    "bs_vars = {key: np.random.rand() for key in bs_keys}\n",
    "\n",
    "#initialize a 4 mode program\n",
    "boson_sampling = sf.Program(4)\n",
    "\n",
    "with boson_sampling.context as q:\n",
    "    #Prepare the input fock states\n",
    "    Fock(1)  |  q[0]\n",
    "    Fock(1)  |  q[1]\n",
    "    Fock(1)  |  q[2]\n",
    "    Fock(1)  |  q[3] \n",
    "\n",
    "    #rotation gates\n",
    "    Rgate(r1)  | q[0]\n",
    "    Rgate(r2)  | q[1]\n",
    "    Rgate(r3)  | q[2]\n",
    "    Rgate(r4)  | q[3]\n",
    "\n",
    "    #beamsplitter array\n",
    "    BSgate(bs11, bs12)    | (q[0], q[1])\n",
    "    BSgate(bs21, bs22)    | (q[2], q[3])\n",
    "    BSgate(bs31, bs32)    | (q[1], q[2])\n",
    "    BSgate(bs41, bs42)    | (q[0], q[1])\n",
    "    BSgate(bs51, bs52)    | (q[2], q[3])\n",
    "    BSgate(bs61, bs62)    | (q[1], q[2])\n",
    "    BSgate(bs71, bs72)    | (q[0], q[1])\n",
    "    BSgate(bs81, bs82)    | (q[2], q[3])\n"
   ]
  },
  {
   "cell_type": "code",
   "execution_count": 3,
   "id": "4a93ff04-ef64-4ba8-97e8-c57426a05770",
   "metadata": {},
   "outputs": [
    {
     "name": "stderr",
     "output_type": "stream",
     "text": [
      "/Users/jaewonlee/anaconda3/envs/PQC/lib/python3.11/site-packages/strawberryfields/program.py:732: UserWarning: The circuit consists of 4 disconnected components.\n"
     ]
    }
   ],
   "source": [
    "eng = sf.Engine(backend = \"fock\", backend_options = {\"cutoff_dim\" : 5})\n",
    "results = eng.run(boson_sampling)"
   ]
  },
  {
   "cell_type": "code",
   "execution_count": null,
   "id": "b81029fb-8cb4-4dbd-b2cf-4a68dadc049b",
   "metadata": {},
   "outputs": [],
   "source": [
    "#extract the joint Fock probabilities\n",
    "probs = results.state.all_fock_probs()\n",
    "\n",
    "# Calculating the probability for each state in measure_states\n",
    "measure_states = [[x, y, z, t] for x in range(5) for y in range(5) for z in range(5) for t in range(5) if x + y + z + t == 4]\n",
    "state_probs = [probs[tuple(state)] for state in measure_states]\n",
    "\n",
    "# Creating labels for the states\n",
    "state_labels = [str(state) for state in measure_states]\n",
    "\n",
    "# Plotting\n",
    "plt.figure(figsize=(10, 6))\n",
    "plt.bar(state_labels, state_probs, color='skyblue')\n",
    "plt.xticks(rotation=90)\n",
    "plt.ylabel(\"Probability\")\n",
    "plt.yscale('log')\n",
    "plt.title(\"Probability of each state\")\n",
    "plt.tight_layout()\n",
    "\n",
    "# Showing the plot\n",
    "plt.show()"
   ]
  }
 ],
 "metadata": {
  "kernelspec": {
   "display_name": "Python 3 (ipykernel)",
   "language": "python",
   "name": "python3"
  },
  "language_info": {
   "codemirror_mode": {
    "name": "ipython",
    "version": 3
   },
   "file_extension": ".py",
   "mimetype": "text/x-python",
   "name": "python",
   "nbconvert_exporter": "python",
   "pygments_lexer": "ipython3",
   "version": "3.11.5"
  }
 },
 "nbformat": 4,
 "nbformat_minor": 5
}
