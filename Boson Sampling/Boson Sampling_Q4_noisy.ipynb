{
 "cells": [
  {
   "cell_type": "code",
   "execution_count": 1,
   "id": "de50b9a9-fe46-4d21-8a34-067e208be727",
   "metadata": {},
   "outputs": [],
   "source": [
    "#necessary package import\n",
    "#Numpy\n",
    "import numpy as np\n",
    "from numpy.linalg import multi_dot\n",
    "from math import factorial, tanh\n",
    "#Matplotlib\n",
    "import matplotlib.pyplot as plt\n",
    "#Scipy\n",
    "from scipy.linalg import block_diag\n",
    "#Thewalrus\n",
    "from thewalrus import perm\n",
    "#Strawberryfields\n",
    "import strawberryfields as sf\n",
    "from strawberryfields.ops import *\n",
    "#import mplhep as hep\n",
    "#Qutip\n",
    "from qutip import *"
   ]
  },
  {
   "cell_type": "code",
   "execution_count": 2,
   "id": "834296f6-4ab6-4aee-98e3-b6a3666d031d",
   "metadata": {},
   "outputs": [],
   "source": [
    "#Setting Variables\n",
    "#Rotation gates\n",
    "\"\"\"\n",
    "R1 = 1\n",
    "R2 = np.pi/4\n",
    "R3 = 1\n",
    "R4 = np.pi/4\n",
    "\"\"\"\n",
    "R1 = 0.5719\n",
    "R2 = -1.9782\n",
    "R3 = 2.0603\n",
    "R4 = 0.0644\n",
    "\"\"\"\n",
    "#Beamsplitters\n",
    "BT1 = np.pi/4;  BP1 = np.pi/2\n",
    "BT2 = np.pi/4;  BP2 = np.pi/2\n",
    "BT3 = np.pi/4;  BP3 = np.pi/2\n",
    "BT4 = np.pi/4;  BP4 = np.pi/2\n",
    "BT5 = np.pi/4;  BP5 = np.pi/2\n",
    "BT6 = np.pi/4;  BP6 = np.pi/2\n",
    "BT7 = np.pi/4;  BP7 = np.pi/2\n",
    "BT8 = np.pi/4;  BP8 = np.pi/2\n",
    "\"\"\"\n",
    "BT1 = 0.7804;  BP1 = 0.8578\n",
    "BT2 = 0.06406; BP2 = 0.5165\n",
    "BT3 = 0.473;   BP3 = 0.1176\n",
    "BT4 = 0.563;   BP4 = 0.1517\n",
    "BT5 = 0.1323;  BP5 = 0.9946\n",
    "BT6 = 0.311;   BP6 = 0.3231\n",
    "BT7 = 0.4348;  BP7 = 0.0798\n",
    "BT8 = 0.4368;  BP8 = 0.6157\n"
   ]
  },
  {
   "cell_type": "code",
   "execution_count": 3,
   "id": "fe2a6e5a-0d0f-491d-8f68-e4e2dc767182",
   "metadata": {},
   "outputs": [],
   "source": [
    "#Rotation gate calculation\n",
    "Uphase = np.diag([np.exp(R1*1j),np.exp(R2*1j),np.exp(R3*1j),np.exp(R4*1j)])"
   ]
  },
  {
   "cell_type": "code",
   "execution_count": 4,
   "id": "66212656-0899-4b83-9a13-1b0498ac6b7a",
   "metadata": {},
   "outputs": [],
   "source": [
    "#Beamsplitter calculation\n",
    "#Put variables\n",
    "BSargs = [\n",
    "    (BT1, BP1),\n",
    "    (BT2, BP2),\n",
    "    (BT3, BP3),\n",
    "    (BT4, BP4),\n",
    "    (BT5, BP5),\n",
    "    (BT6, BP6),\n",
    "    (BT7, BP7),\n",
    "    (BT8, BP8)\n",
    "]\n",
    "\n",
    "t_r_amplitudes = [(np.cos(q), np.exp(p*1j)*np.sin(q)) for q,p in BSargs]\n",
    "\n",
    "BSunitaries = [np.array([[t, -np.conj(r)], [r, t]]) for t,r in t_r_amplitudes]\n",
    "\n",
    "UBS1 = block_diag(*BSunitaries[0:2])\n",
    "UBS2 = block_diag([[1]], BSunitaries[2], [[1]])\n",
    "UBS3 = block_diag(*BSunitaries[3:5])\n",
    "UBS4 = block_diag([[1]], BSunitaries[5], [[1]])\n",
    "UBS5 = block_diag(*BSunitaries[6:8])"
   ]
  },
  {
   "cell_type": "code",
   "execution_count": 5,
   "id": "e56e0701-e411-4eaf-945b-9aabcb4a6258",
   "metadata": {},
   "outputs": [
    {
     "name": "stdout",
     "output_type": "stream",
     "text": [
      "[[ 0.2195-0.2565j  0.6111+0.5242j -0.1027+0.4745j -0.0273+0.0373j]\n",
      " [ 0.4513+0.6026j  0.457 +0.0123j  0.1316-0.4504j  0.0353-0.0532j]\n",
      " [ 0.0387+0.4927j -0.0192-0.3218j -0.2408+0.5244j -0.4584+0.3296j]\n",
      " [-0.1566+0.2246j  0.11  -0.1638j -0.4212+0.1836j  0.8188+0.068j ]]\n"
     ]
    }
   ],
   "source": [
    "U = multi_dot([UBS5, UBS4, UBS3, UBS2, UBS1, Uphase])\n",
    "print(np.round(U,4))"
   ]
  },
  {
   "cell_type": "code",
   "execution_count": 6,
   "id": "5b9dd559-1475-4f5c-ba0c-de0df17d453a",
   "metadata": {},
   "outputs": [],
   "source": [
    "# Calculating the probability for each state in measure_states\n",
    "measure_states = [[x, y, z, t] for x in range(5) for y in range(5) for z in range(5) for t in range(5) if x + y + z + t == 4]"
   ]
  },
  {
   "cell_type": "code",
   "execution_count": 7,
   "id": "640c8200-99c6-42fd-8f90-cd8881032e39",
   "metadata": {},
   "outputs": [],
   "source": [
    "input = [1, 1, 1, 1]\n",
    "\n",
    "def unitary_mapping(output):\n",
    "    # The two lines below are the extracted row and column indices.\n",
    "    list_rows = sum([[i] * output[i] for i in range(len(output))],[])\n",
    "    list_columns = sum([[i] * input[i] for i in range(len(input))],[])\n",
    "    Umap = U[:,list_columns][list_rows,:]\n",
    "    return Umap\n",
    "\n",
    "def probs_theory(output):\n",
    "    perm_squared = np.abs(perm(unitary_mapping(output), method=\"ryser\"))**2\n",
    "    denominator = np.prod([factorial(inp) for inp in input]) * np.prod([factorial(out) for out in output])\n",
    "    return perm_squared / denominator"
   ]
  },
  {
   "cell_type": "code",
   "execution_count": 9,
   "id": "94e5e405-0e53-4be0-9ec2-ce867a3966e5",
   "metadata": {},
   "outputs": [
    {
     "name": "stdout",
     "output_type": "stream",
     "text": [
      "Probability of state(Ideal_Theory)     [0, 0, 0, 4]: 0.9976245740353498%\n",
      "Probability of state(Ideal_Theory)     [0, 0, 1, 3]: 4.003119536853783%\n",
      "Probability of state(Ideal_Theory)     [0, 0, 2, 2]: 2.716416141240894%\n",
      "Probability of state(Ideal_Theory)     [0, 0, 3, 1]: 0.414559085628145%\n",
      "Probability of state(Ideal_Theory)     [0, 0, 4, 0]: 6.469120990886585%\n",
      "Probability of state(Ideal_Theory)     [0, 1, 0, 3]: 0.5511529064587104%\n",
      "Probability of state(Ideal_Theory)     [0, 1, 1, 2]: 0.9347207459242995%\n",
      "Probability of state(Ideal_Theory)     [0, 1, 2, 1]: 0.0021064451472127665%\n",
      "Probability of state(Ideal_Theory)     [0, 1, 3, 0]: 1.0291411855438208%\n",
      "Probability of state(Ideal_Theory)     [0, 2, 0, 2]: 4.844457534042481%\n",
      "Probability of state(Ideal_Theory)     [0, 2, 1, 1]: 0.46618659065364365%\n",
      "Probability of state(Ideal_Theory)     [0, 2, 2, 0]: 2.4765343954832963%\n",
      "Probability of state(Ideal_Theory)     [0, 3, 0, 1]: 9.27180245089878%\n",
      "Probability of state(Ideal_Theory)     [0, 3, 1, 0]: 6.014302220754855%\n",
      "Probability of state(Ideal_Theory)     [0, 4, 0, 0]: 0.2553488502011463%\n",
      "Probability of state(Ideal_Theory)     [1, 0, 0, 3]: 2.742660264846287%\n",
      "Probability of state(Ideal_Theory)     [1, 0, 1, 2]: 4.725983909404976%\n",
      "Probability of state(Ideal_Theory)     [1, 0, 2, 1]: 0.02748943024433652%\n",
      "Probability of state(Ideal_Theory)     [1, 0, 3, 0]: 4.788754654374056%\n",
      "Probability of state(Ideal_Theory)     [1, 1, 0, 2]: 6.150225208752799%\n",
      "Probability of state(Ideal_Theory)     [1, 1, 1, 1]: 1.7947476898523052%\n",
      "Probability of state(Ideal_Theory)     [1, 1, 2, 0]: 6.287259068592342%\n",
      "Probability of state(Ideal_Theory)     [1, 2, 0, 1]: 2.363004008020116%\n",
      "Probability of state(Ideal_Theory)     [1, 2, 1, 0]: 0.7752331114380873%\n",
      "Probability of state(Ideal_Theory)     [1, 3, 0, 0]: 0.04747118508096251%\n",
      "Probability of state(Ideal_Theory)     [2, 0, 0, 2]: 2.0175185832252778%\n",
      "Probability of state(Ideal_Theory)     [2, 0, 1, 1]: 0.6725066557732408%\n",
      "Probability of state(Ideal_Theory)     [2, 0, 2, 0]: 2.679823147785913%\n",
      "Probability of state(Ideal_Theory)     [2, 1, 0, 1]: 9.556533114953144%\n",
      "Probability of state(Ideal_Theory)     [2, 1, 1, 0]: 4.214285110266025%\n",
      "Probability of state(Ideal_Theory)     [2, 2, 0, 0]: 0.20306143126205065%\n",
      "Probability of state(Ideal_Theory)     [3, 0, 0, 1]: 6.771123863029832%\n",
      "Probability of state(Ideal_Theory)     [3, 0, 1, 0]: 3.4458084319062707%\n",
      "Probability of state(Ideal_Theory)     [3, 1, 0, 0]: 0.2007514117015597%\n",
      "Probability of state(Ideal_Theory)     [4, 0, 0, 0]: 0.08916606573735333%\n",
      "Total probability(Ideal_Theory):     99.99999999999996%\n"
     ]
    }
   ],
   "source": [
    "#Comparing Theory and Simulation\n",
    "# Initialize the total probability\n",
    "total_probability_T = 0  \n",
    "\n",
    "# measure_states의 각 상태에 대해 확률을 출력\n",
    "for i, state in enumerate(measure_states):\n",
    "    # 각 상태의 확률을 출력\n",
    "    # *state는 state 리스트의 요소들을 개별 인자로 전달합니다.\n",
    "    print(f\"Probability of state(Ideal_Theory)     {state}: {probs_theory(state)*100}%\")\n",
    "    total_probability_T += probs_theory(state)\n",
    "    \n",
    "# Print the total probability\n",
    "print(f\"Total probability(Ideal_Theory):     {total_probability_T*100}%\")"
   ]
  },
  {
   "cell_type": "code",
   "execution_count": null,
   "id": "00ee7302-ba2a-4021-ab4f-ac5c49ec0cc2",
   "metadata": {},
   "outputs": [],
   "source": []
  }
 ],
 "metadata": {
  "kernelspec": {
   "display_name": "Python 3 (ipykernel)",
   "language": "python",
   "name": "python3"
  },
  "language_info": {
   "codemirror_mode": {
    "name": "ipython",
    "version": 3
   },
   "file_extension": ".py",
   "mimetype": "text/x-python",
   "name": "python",
   "nbconvert_exporter": "python",
   "pygments_lexer": "ipython3",
   "version": "3.11.5"
  }
 },
 "nbformat": 4,
 "nbformat_minor": 5
}
