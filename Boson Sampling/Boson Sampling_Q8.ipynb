{
 "cells": [
  {
   "cell_type": "code",
   "execution_count": 5,
   "id": "f56aa2e5-c406-45d3-a00a-72b651fb051d",
   "metadata": {},
   "outputs": [],
   "source": [
    "#necessary package import\n",
    "#Numpy\n",
    "import numpy as np\n",
    "from numpy.linalg import multi_dot\n",
    "from math import factorial, tanh\n",
    "#Matplotlib\n",
    "import matplotlib.pyplot as plt\n",
    "#Scipy\n",
    "from scipy.linalg import block_diag\n",
    "#Thewalrus\n",
    "from thewalrus import perm\n",
    "#Strawberryfields\n",
    "import strawberryfields as sf\n",
    "from strawberryfields.ops import *\n",
    "#import mplhep as hep\n",
    "#Qutip\n",
    "from qutip import *"
   ]
  },
  {
   "cell_type": "code",
   "execution_count": 43,
   "id": "d2f6d29a-95e0-4b0e-b12e-5e961a0a10f1",
   "metadata": {},
   "outputs": [],
   "source": [
    "#Setting Variables\n",
    "#Rotation gates\n",
    "R1 = np.pi/4\n",
    "R2 = np.pi/4\n",
    "R3 = np.pi/4\n",
    "R4 = np.pi/4\n",
    "R5 = np.pi/4\n",
    "R6 = np.pi/4\n",
    "R7 = np.pi/4\n",
    "R8 = np.pi/4\n",
    "\n",
    "#Beamsplitters\n",
    "BT1 = np.pi/4;  BP1 = np.pi/2\n",
    "BT2 = np.pi/4;  BP2 = np.pi/2\n",
    "BT3 = np.pi/4;  BP3 = np.pi/2\n",
    "BT4 = np.pi/4;  BP4 = np.pi/2\n",
    "BT5 = np.pi/4;  BP5 = np.pi/2\n",
    "BT6 = np.pi/4;  BP6 = np.pi/2\n",
    "BT7 = np.pi/4;  BP7 = np.pi/2\n",
    "BT8 = np.pi/4;  BP8 = np.pi/2\n",
    "BT9 = np.pi/4;  BP9 = np.pi/2\n",
    "BT10 = np.pi/4; BP10 = np.pi/2\n",
    "BT11 = np.pi/4; BP11 = np.pi/2\n",
    "BT12 = np.pi/4; BP12 = np.pi/2\n",
    "BT13 = np.pi/4; BP13 = np.pi/2\n",
    "BT14 = np.pi/4; BP14 = np.pi/2\n",
    "BT15 = np.pi/4; BP15 = np.pi/2\n",
    "BT16 = np.pi/4; BP16 = np.pi/2\n",
    "BT17 = np.pi/4; BP17 = np.pi/2\n",
    "BT18 = np.pi/4; BP18 = np.pi/2"
   ]
  },
  {
   "cell_type": "code",
   "execution_count": 44,
   "id": "fcc0a3bb-2171-4205-86e7-6540e287ce99",
   "metadata": {},
   "outputs": [],
   "source": [
    "#Rotation gate calculation\n",
    "Uphase = np.diag([np.exp(R1*1j),np.exp(R2*1j),np.exp(R3*1j),np.exp(R4*1j),\n",
    "                  np.exp(R5*1j),np.exp(R6*1j),np.exp(R7*1j),np.exp(R8*1j)])"
   ]
  },
  {
   "cell_type": "code",
   "execution_count": 95,
   "id": "5de8c076-a2e1-4cb5-955d-2ad5e0480730",
   "metadata": {},
   "outputs": [],
   "source": [
    "#Beamsplitter calculation\n",
    "#Put variables\n",
    "BSargs = [(BT1, BP1),(BT2, BP2),(BT3, BP3),(BT4, BP4),\n",
    "          (BT5, BP5),(BT6, BP6),(BT7, BP7),\n",
    "          (BT8, BP8),(BT9, BP9),(BT10, BP10),(BT11, BP11),\n",
    "          (BT12, BP12),(BT13, BP13),(BT14, BP14),\n",
    "          (BT15, BP15),(BT16, BP16),(BT17, BP17),(BT18, BP18)]\n",
    "\n",
    "t_r_amplitudes = [(np.cos(q), np.exp(p*1j)*np.sin(q)) for q,p in BSargs]\n",
    "\n",
    "BSunitaries = [np.array([[t, -np.conj(r)], [r, t]]) for t,r in t_r_amplitudes]\n",
    "\n",
    "UBS1 = block_diag(*BSunitaries[0:4])\n",
    "UBS2 = block_diag([[1]], BSunitaries[4], BSunitaries[5], BSunitaries[6], [[1]])\n",
    "UBS3 = block_diag(*BSunitaries[7:11])\n",
    "UBS4 = block_diag([[1]], BSunitaries[11], BSunitaries[12], BSunitaries[13], [[1]])\n",
    "UBS5 = block_diag(*BSunitaries[14:18])"
   ]
  },
  {
   "cell_type": "code",
   "execution_count": 96,
   "id": "f14c5247-da7b-49d4-97a1-67a43cd47e3c",
   "metadata": {},
   "outputs": [
    {
     "name": "stdout",
     "output_type": "stream",
     "text": [
      "[[-0.1036-0.1036j -0.25  +0.25j   -0.3018-0.3018j  0.5518-0.5518j\n",
      "   0.125 +0.125j  -0.125 +0.125j   0.    +0.j      0.    +0.j    ]\n",
      " [-0.25  +0.25j   -0.6036-0.6036j  0.0518-0.0518j -0.1982-0.1982j\n",
      "   0.125 -0.125j   0.125 +0.125j   0.    +0.j      0.    +0.j    ]\n",
      " [-0.3018-0.3018j  0.0518-0.0518j -0.25  -0.25j   -0.    +0.j\n",
      "  -0.25  -0.25j    0.5   -0.5j     0.125 +0.125j  -0.125 +0.125j ]\n",
      " [ 0.5518-0.5518j -0.1982-0.1982j -0.    +0.j     -0.25  -0.25j\n",
      "  -0.    +0.j     -0.25  -0.25j    0.125 -0.125j   0.125 +0.125j ]\n",
      " [ 0.125 +0.125j   0.125 -0.125j  -0.25  -0.25j   -0.    +0.j\n",
      "  -0.25  -0.25j   -0.    +0.j     -0.1982-0.1982j  0.5518-0.5518j]\n",
      " [-0.125 +0.125j   0.125 +0.125j   0.5   -0.5j    -0.25  -0.25j\n",
      "  -0.    +0.j     -0.25  -0.25j    0.0518-0.0518j -0.3018-0.3018j]\n",
      " [ 0.    +0.j      0.    +0.j      0.125 +0.125j   0.125 -0.125j\n",
      "  -0.1982-0.1982j  0.0518-0.0518j -0.6036-0.6036j -0.25  +0.25j  ]\n",
      " [ 0.    +0.j      0.    +0.j     -0.125 +0.125j   0.125 +0.125j\n",
      "   0.5518-0.5518j -0.3018-0.3018j -0.25  +0.25j   -0.1036-0.1036j]]\n"
     ]
    }
   ],
   "source": [
    "U = multi_dot([UBS5, UBS4, UBS3, UBS2, UBS1, Uphase])\n",
    "print(np.round(U,4))"
   ]
  },
  {
   "cell_type": "code",
   "execution_count": 101,
   "id": "bb500d00-d83d-4ff7-88b2-0f38e50ebf7e",
   "metadata": {},
   "outputs": [],
   "source": [
    "input = [0, 0, 0, 1, 1, 0, 0, 0]\n",
    "n = 2\n",
    "# Calculating the probability for each state in measure_states\n",
    "measure_states = [[q1, q2, q3, q4, q5, q6, q7, q8] \n",
    "                  for q8 in range(n+1) for q7 in range(n+1) for q6 in range(n+1) for q5 in range(n+1) \n",
    "                  for q4 in range(n+1) for q3 in range(n+1) for q2 in range(n+1) for q1 in range(n+1) \n",
    "                  if q1 + q2 + q3 + q4 + q5 + q6 + q7 + q8 == n]"
   ]
  },
  {
   "cell_type": "code",
   "execution_count": 102,
   "id": "d257d7f9-647a-4c78-851a-e32757e41fd5",
   "metadata": {},
   "outputs": [],
   "source": [
    "def unitary_mapping(output):\n",
    "    # The two lines below are the extracted row and column indices.\n",
    "    list_rows = sum([[i] * output[i] for i in range(len(output))],[])\n",
    "    list_columns = sum([[i] * input[i] for i in range(len(input))],[])\n",
    "    Umap = U[:,list_columns][list_rows,:]\n",
    "    return Umap\n",
    "\n",
    "def probs_theory(output):\n",
    "    perm_squared = np.abs(perm(unitary_mapping(output), method=\"ryser\"))**2\n",
    "    denominator = np.prod([factorial(inp) for inp in input]) * np.prod([factorial(out) for out in output])\n",
    "    return perm_squared / denominator"
   ]
  },
  {
   "cell_type": "code",
   "execution_count": 103,
   "id": "22504e71-38ca-42f6-b871-cc01f0346ad5",
   "metadata": {},
   "outputs": [
    {
     "name": "stdout",
     "output_type": "stream",
     "text": [
      "Probability of state(Theory)     [2, 0, 0, 0, 0, 0, 0, 0]: 3.8057190184059673%\n",
      "Probability of state(Theory)     [1, 1, 0, 0, 0, 0, 0, 0]: 3.5156249999999987%\n",
      "Probability of state(Theory)     [0, 2, 0, 0, 0, 0, 0, 0]: 0.4911559815940293%\n",
      "Probability of state(Theory)     [1, 0, 1, 0, 0, 0, 0, 0]: 7.611438036811948%\n",
      "Probability of state(Theory)     [0, 1, 1, 0, 0, 0, 0, 0]: 0.9823119631880605%\n",
      "Probability of state(Theory)     [0, 0, 2, 0, 0, 0, 0, 0]: 1.0629340867460556e-30%\n",
      "Probability of state(Theory)     [1, 0, 0, 1, 0, 0, 0, 0]: 0.3906249999999986%\n",
      "Probability of state(Theory)     [0, 1, 0, 1, 0, 0, 0, 0]: 0.3906249999999995%\n",
      "Probability of state(Theory)     [0, 0, 1, 1, 0, 0, 0, 0]: 1.5625000000000007%\n",
      "Probability of state(Theory)     [0, 0, 0, 2, 0, 0, 0, 0]: 3.7861594342216036e-31%\n",
      "Probability of state(Theory)     [1, 0, 0, 0, 1, 0, 0, 0]: 7.611438036811938%\n",
      "Probability of state(Theory)     [0, 1, 0, 0, 1, 0, 0, 0]: 0.9823119631880598%\n",
      "Probability of state(Theory)     [0, 0, 1, 0, 1, 0, 0, 0]: 1.6408970439524088e-30%\n",
      "Probability of state(Theory)     [0, 0, 0, 1, 1, 0, 0, 0]: 1.5625%\n",
      "Probability of state(Theory)     [0, 0, 0, 0, 2, 0, 0, 0]: 6.0933018640788085e-31%\n",
      "Probability of state(Theory)     [1, 0, 0, 0, 0, 1, 0, 0]: 0.3906249999999988%\n",
      "Probability of state(Theory)     [0, 1, 0, 0, 0, 1, 0, 0]: 0.3906249999999997%\n",
      "Probability of state(Theory)     [0, 0, 1, 0, 0, 1, 0, 0]: 1.5625000000000013%\n",
      "Probability of state(Theory)     [0, 0, 0, 1, 0, 1, 0, 0]: 7.673147694282077e-31%\n",
      "Probability of state(Theory)     [0, 0, 0, 0, 1, 1, 0, 0]: 1.5625000000000013%\n",
      "Probability of state(Theory)     [0, 0, 0, 0, 0, 2, 0, 0]: 3.887696936112824e-31%\n",
      "Probability of state(Theory)     [1, 0, 0, 0, 0, 0, 1, 0]: 3.515625000000002%\n",
      "Probability of state(Theory)     [0, 1, 0, 0, 0, 0, 1, 0]: 0.22405981594029287%\n",
      "Probability of state(Theory)     [0, 0, 1, 0, 0, 0, 1, 0]: 0.39062499999999933%\n",
      "Probability of state(Theory)     [0, 0, 0, 1, 0, 0, 1, 0]: 0.9823119631880595%\n",
      "Probability of state(Theory)     [0, 0, 0, 0, 1, 0, 1, 0]: 0.39062499999999933%\n",
      "Probability of state(Theory)     [0, 0, 0, 0, 0, 1, 1, 0]: 0.9823119631880604%\n",
      "Probability of state(Theory)     [0, 0, 0, 0, 0, 0, 2, 0]: 0.4911559815940293%\n",
      "Probability of state(Theory)     [1, 0, 0, 0, 0, 0, 0, 1]: 33.36969018405968%\n",
      "Probability of state(Theory)     [0, 1, 0, 0, 0, 0, 0, 1]: 3.515625000000001%\n",
      "Probability of state(Theory)     [0, 0, 1, 0, 0, 0, 0, 1]: 0.39062499999999784%\n",
      "Probability of state(Theory)     [0, 0, 0, 1, 0, 0, 0, 1]: 7.611438036811938%\n",
      "Probability of state(Theory)     [0, 0, 0, 0, 1, 0, 0, 1]: 0.39062499999999817%\n",
      "Probability of state(Theory)     [0, 0, 0, 0, 0, 1, 0, 1]: 7.611438036811944%\n",
      "Probability of state(Theory)     [0, 0, 0, 0, 0, 0, 1, 1]: 3.515624999999998%\n",
      "Probability of state(Theory)     [0, 0, 0, 0, 0, 0, 0, 2]: 3.805719018405966%\n",
      "Total probability(Theory):     99.99999999999994%\n"
     ]
    }
   ],
   "source": [
    "#Comparing Theory and Simulation\n",
    "# Initialize the total probability\n",
    "total_probability_T = 0  \n",
    "\n",
    "# measure_states의 각 상태에 대해 확률을 출력\n",
    "for i, state in enumerate(measure_states):\n",
    "    # 각 상태의 확률을 출력\n",
    "    # *state는 state 리스트의 요소들을 개별 인자로 전달합니다.\n",
    "    print(f\"Probability of state(Theory)     {state}: {probs_theory(state)*100}%\")\n",
    "    total_probability_T += probs_theory(state)\n",
    "    \n",
    "# Print the total probability\n",
    "print(f\"Total probability(Theory):     {total_probability_T*100}%\")"
   ]
  },
  {
   "cell_type": "code",
   "execution_count": 104,
   "id": "ce3d1a16-d3a9-419a-b7fd-72c8b17af39e",
   "metadata": {},
   "outputs": [
    {
     "data": {
      "image/png": "[encoded data removed]",
      "text/plain": [
       "<Figure size 1000x600 with 1 Axes>"
      ]
     },
     "metadata": {},
     "output_type": "display_data"
    }
   ],
   "source": [
    "#Probaibility\n",
    "state_probs = [probs_theory(state)*100 for state in measure_states]\n",
    "\n",
    "# Creating labels for the states\n",
    "state_labels = [str(state) for state in measure_states]\n",
    "\n",
    "# Plotting\n",
    "plt.figure(figsize=(10, 6))\n",
    "plt.bar(state_labels, state_probs, color='skyblue')\n",
    "plt.xticks(rotation=90)\n",
    "plt.xlabel(\"States\")\n",
    "plt.ylabel(\"Probability[%]\")\n",
    "#plt.yscale('log')\n",
    "plt.title(\"Probability of each state\")\n",
    "plt.tight_layout()\n",
    "\n",
    "#이미지를 경로에 저장. 확장자는 .pdf, .png, .jpeg등 가능\n",
    "#plt.savefig('/Users/jaewonlee/Lab/PQC/BS_Q_4(log).png', transparent = True)\n",
    "\n",
    "# Showing the plot\n",
    "plt.show()"
   ]
  },
  {
   "cell_type": "code",
   "execution_count": null,
   "id": "747a0af6-e99f-4798-b92b-b14b2bb0d5db",
   "metadata": {},
   "outputs": [],
   "source": []
  },
  {
   "cell_type": "code",
   "execution_count": null,
   "id": "351c21c5-4062-4ae6-adb2-c6e75b546c4b",
   "metadata": {},
   "outputs": [],
   "source": []
  }
 ],
 "metadata": {
  "kernelspec": {
   "display_name": "Python 3 (ipykernel)",
   "language": "python",
   "name": "python3"
  },
  "language_info": {
   "codemirror_mode": {
    "name": "ipython",
    "version": 3
   },
   "file_extension": ".py",
   "mimetype": "text/x-python",
   "name": "python",
   "nbconvert_exporter": "python",
   "pygments_lexer": "ipython3",
   "version": "3.11.5"
  }
 },
 "nbformat": 4,
 "nbformat_minor": 5
}
